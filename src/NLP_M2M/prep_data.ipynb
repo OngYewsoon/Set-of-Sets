{
 "cells": [
  {
   "cell_type": "code",
   "execution_count": 1,
   "id": "c6a2baf5-9f36-49ae-9df7-36561153df59",
   "metadata": {},
   "outputs": [],
   "source": [
    "from transformers import M2M100Config, M2M100ForConditionalGeneration, M2M100Tokenizer, M2M100Model\n",
    "from datasets import load_metric, load_dataset\n",
    "import datasets\n",
    "import pickle\n",
    "import pandas\n",
    "import os "
   ]
  },
  {
   "cell_type": "markdown",
   "id": "dddc6f72-2bc6-4a60-ad02-2a538d04bd18",
   "metadata": {},
   "source": [
    "Everything from: https://huggingface.co/"
   ]
  },
  {
   "cell_type": "code",
   "execution_count": 21,
   "id": "ca2e13be-2ac8-492d-9fec-68d3813a5a01",
   "metadata": {},
   "outputs": [
    {
     "name": "stderr",
     "output_type": "stream",
     "text": [
      "WARNING:datasets.builder:Reusing dataset wmt19 (C:\\Users\\hanxi\\.cache\\huggingface\\datasets\\wmt19\\cs-en\\1.0.0\\c3db1bf4240362ed1ef4673b354f468d70aac66d4e67d45f536d493a0840f0d3)\n"
     ]
    }
   ],
   "source": [
    "cz_dataset = load_dataset('wmt19', 'cs-en', split='train')"
   ]
  },
  {
   "cell_type": "code",
   "execution_count": 22,
   "id": "f536babe-88de-4635-9107-4201975bf117",
   "metadata": {},
   "outputs": [
    {
     "name": "stderr",
     "output_type": "stream",
     "text": [
      "WARNING:datasets.builder:Reusing dataset wmt19 (C:\\Users\\hanxi\\.cache\\huggingface\\datasets\\wmt19\\de-en\\1.0.0\\c3db1bf4240362ed1ef4673b354f468d70aac66d4e67d45f536d493a0840f0d3)\n"
     ]
    }
   ],
   "source": [
    "de_dataset = load_dataset('wmt19', 'de-en', split='train')"
   ]
  },
  {
   "cell_type": "markdown",
   "id": "45223838-545d-4598-a3ba-89fe22963c73",
   "metadata": {},
   "source": [
    "# Process Data"
   ]
  },
  {
   "cell_type": "code",
   "execution_count": 14,
   "id": "ed6186fe-8470-4d43-9e26-fd066663fb4c",
   "metadata": {},
   "outputs": [],
   "source": [
    "def process_data(dataset, lang_code, max_length, start_idx, end_idx, use_whole_dataset):\n",
    "    tokenizer = M2M100Tokenizer.from_pretrained(\"facebook/m2m100_418M\", \n",
    "                                                src_lang=lang_code,\n",
    "                                                tgt_lang=\"en\", \n",
    "                                                padding_side='right', \n",
    "                                                truncation_side='right')\n",
    "    if use_whole_dataset:\n",
    "        end_idx = len(dataset)\n",
    "    x = tokenizer([dataset[i]['translation'][lang_code] for i in range(start_idx, end_idx)], \n",
    "                  return_tensors=\"pt\", \n",
    "                  truncation=True, \n",
    "                  padding='max_length', \n",
    "                  max_length=max_length)\n",
    "    with tokenizer.as_target_tokenizer(): \n",
    "        y = tokenizer([dataset[i]['translation']['en'] for i in range(start_idx, end_idx)], \n",
    "                      return_tensors=\"pt\", \n",
    "                      truncation=True, \n",
    "                      padding='max_length', \n",
    "                      max_length=max_length).input_ids\n",
    "    return {'x':x, \n",
    "            'y':y}"
   ]
  },
  {
   "cell_type": "code",
   "execution_count": 19,
   "id": "53e163b3-8ed6-41e7-82f0-983eab7d5fbe",
   "metadata": {},
   "outputs": [],
   "source": [
    "cz_train = process_data(cz_dataset, 'cs', 8, 4000, 0, True)\n",
    "with open('cs_dataset_train_full_'+str(8)+'.pkl', 'wb') as handle:\n",
    "    pickle.dump(cz_train, handle)"
   ]
  },
  {
   "cell_type": "code",
   "execution_count": null,
   "id": "35bf34fd-9725-42ed-983e-401f66454a36",
   "metadata": {},
   "outputs": [],
   "source": [
    "de_train = process_data(de_dataset, 'de', 8, 4000, 0, True)\n",
    "with open('de_dataset_train_full_'+str(8)+'.pkl', 'wb') as handle:\n",
    "    pickle.dump(de_train, handle)"
   ]
  },
  {
   "cell_type": "code",
   "execution_count": 4,
   "id": "f334d194-bd62-4f19-97f0-573bcb8320cd",
   "metadata": {},
   "outputs": [],
   "source": [
    "def subset_data(train_data, lang_code, idxs, path):\n",
    "    evo = select_subset(idxs[0][0], idxs[0][1], train_data)   \n",
    "    with open(path, 'wb') as handle:\n",
    "        pickle.dump(evo, handle)\n",
    "        \n",
    "def select_subset(start_idx, end_idx, data):\n",
    "    return {'x':{'input_ids': data['x']['input_ids'][start_idx: end_idx], \n",
    "                 'attention_mask': data['x']['attention_mask'][start_idx: end_idx]}, \n",
    "            'y':data['y'][start_idx: end_idx]}"
   ]
  },
  {
   "cell_type": "code",
   "execution_count": 2,
   "id": "bbf9ba7b-7b66-4b00-8de6-bbe91e131839",
   "metadata": {},
   "outputs": [],
   "source": [
    "checkpoint_size = 8\n",
    "    \n",
    "with open('cs_dataset_train_full_'+str(checkpoint_size)+'.pkl', 'rb') as handle:\n",
    "    cs_train = pickle.load(handle)\n",
    "with open('de_dataset_train_full_'+str(checkpoint_size)+'.pkl', 'rb') as handle:\n",
    "    de_train = pickle.load(handle)"
   ]
  },
  {
   "cell_type": "code",
   "execution_count": 24,
   "id": "2af308d1-e807-46e2-bda0-04d3ff71aa33",
   "metadata": {},
   "outputs": [],
   "source": [
    "idxs = [(4000, 14000)]\n",
    "subset_data(de_train, 'de', idxs, './MFEA/data/de_evo.pkl')\n",
    "subset_data(cs_train, 'cs', idxs, './MFEA/data/cs_evo.pkl')"
   ]
  },
  {
   "cell_type": "code",
   "execution_count": 25,
   "id": "5e29d00a-2cee-4f69-af08-8bbd5105970d",
   "metadata": {},
   "outputs": [],
   "source": [
    "idxs = [(4000, 7500000)]\n",
    "subset_data(de_train, 'de', idxs, './train_data/de_train.pkl')\n",
    "subset_data(cs_train, 'cs', idxs, './train_data/cs_train.pkl')"
   ]
  },
  {
   "cell_type": "code",
   "execution_count": 26,
   "id": "1dc2a357-9364-4f0f-aef2-8f349ee4f700",
   "metadata": {},
   "outputs": [],
   "source": [
    "idxs = [(0, 4000)]\n",
    "subset_data(de_train, 'de', idxs, './train_data/de_test.pkl')\n",
    "subset_data(cs_train, 'cs', idxs, './train_data/cs_test.pkl')"
   ]
  },
  {
   "cell_type": "code",
   "execution_count": null,
   "id": "33f7aa23-9108-45d1-987f-e4e9266be1f5",
   "metadata": {},
   "outputs": [],
   "source": []
  }
 ],
 "metadata": {
  "kernelspec": {
   "display_name": "Python 3 (ipykernel)",
   "language": "python",
   "name": "python3"
  },
  "language_info": {
   "codemirror_mode": {
    "name": "ipython",
    "version": 3
   },
   "file_extension": ".py",
   "mimetype": "text/x-python",
   "name": "python",
   "nbconvert_exporter": "python",
   "pygments_lexer": "ipython3",
   "version": "3.9.7"
  }
 },
 "nbformat": 4,
 "nbformat_minor": 5
}
